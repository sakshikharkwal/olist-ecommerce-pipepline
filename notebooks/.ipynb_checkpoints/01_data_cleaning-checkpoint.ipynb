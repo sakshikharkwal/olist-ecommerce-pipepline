{
 "cells": [
  {
   "cell_type": "code",
   "execution_count": 1,
   "id": "21b3937b-e8c5-4983-828e-3fa5517399ad",
   "metadata": {},
   "outputs": [
    {
     "name": "stdout",
     "output_type": "stream",
     "text": [
      "C:\\Users\\ASUS\\Documents\\Git\\olist-ecommerce-pipeline\\notebooks\n"
     ]
    }
   ],
   "source": [
    "import os\n",
    "print(os.getcwd())"
   ]
  },
  {
   "cell_type": "code",
   "execution_count": 2,
   "id": "39dc217c-6ddb-4130-ba5a-4f6b2eed2f55",
   "metadata": {},
   "outputs": [],
   "source": [
    "import sys\n",
    "sys.path.append(os.path.abspath(\"..\"))"
   ]
  },
  {
   "cell_type": "code",
   "execution_count": 3,
   "id": "1069a34f-943b-4480-8557-b9124624eba0",
   "metadata": {},
   "outputs": [],
   "source": [
    "import pandas as pd\n",
    "import numpy as np\n",
    "import matplotlib.pyplot as plt\n",
    "import seaborn as sns\n",
    "import sklearn"
   ]
  },
  {
   "cell_type": "code",
   "execution_count": 4,
   "id": "ddfc9410-bf7d-43a2-9bbd-392cd88bc1f5",
   "metadata": {},
   "outputs": [],
   "source": [
    "orders_raw = pd.read_csv(\"../data/raw/olist_orders_dataset.csv\")\n",
    "payments_raw = pd.read_csv(\"../data/raw/olist_order_payments_dataset.csv\")\n",
    "reviews_raw = pd.read_csv(\"../data/raw/olist_order_reviews_dataset.csv\")"
   ]
  },
  {
   "cell_type": "code",
   "execution_count": 5,
   "id": "3582a082-f7eb-4e32-b3b3-fe085d50e869",
   "metadata": {},
   "outputs": [
    {
     "data": {
      "text/html": [
       "<div>\n",
       "<style scoped>\n",
       "    .dataframe tbody tr th:only-of-type {\n",
       "        vertical-align: middle;\n",
       "    }\n",
       "\n",
       "    .dataframe tbody tr th {\n",
       "        vertical-align: top;\n",
       "    }\n",
       "\n",
       "    .dataframe thead th {\n",
       "        text-align: right;\n",
       "    }\n",
       "</style>\n",
       "<table border=\"1\" class=\"dataframe\">\n",
       "  <thead>\n",
       "    <tr style=\"text-align: right;\">\n",
       "      <th></th>\n",
       "      <th>order_id</th>\n",
       "      <th>customer_id</th>\n",
       "      <th>order_status</th>\n",
       "      <th>order_purchase_timestamp</th>\n",
       "      <th>order_approved_at</th>\n",
       "      <th>order_delivered_carrier_date</th>\n",
       "      <th>order_delivered_customer_date</th>\n",
       "      <th>order_estimated_delivery_date</th>\n",
       "    </tr>\n",
       "  </thead>\n",
       "  <tbody>\n",
       "    <tr>\n",
       "      <th>0</th>\n",
       "      <td>e481f51cbdc54678b7cc49136f2d6af7</td>\n",
       "      <td>9ef432eb6251297304e76186b10a928d</td>\n",
       "      <td>delivered</td>\n",
       "      <td>2017-10-02 10:56:33</td>\n",
       "      <td>2017-10-02 11:07:15</td>\n",
       "      <td>2017-10-04 19:55:00</td>\n",
       "      <td>2017-10-10 21:25:13</td>\n",
       "      <td>2017-10-18 00:00:00</td>\n",
       "    </tr>\n",
       "    <tr>\n",
       "      <th>1</th>\n",
       "      <td>53cdb2fc8bc7dce0b6741e2150273451</td>\n",
       "      <td>b0830fb4747a6c6d20dea0b8c802d7ef</td>\n",
       "      <td>delivered</td>\n",
       "      <td>2018-07-24 20:41:37</td>\n",
       "      <td>2018-07-26 03:24:27</td>\n",
       "      <td>2018-07-26 14:31:00</td>\n",
       "      <td>2018-08-07 15:27:45</td>\n",
       "      <td>2018-08-13 00:00:00</td>\n",
       "    </tr>\n",
       "    <tr>\n",
       "      <th>2</th>\n",
       "      <td>47770eb9100c2d0c44946d9cf07ec65d</td>\n",
       "      <td>41ce2a54c0b03bf3443c3d931a367089</td>\n",
       "      <td>delivered</td>\n",
       "      <td>2018-08-08 08:38:49</td>\n",
       "      <td>2018-08-08 08:55:23</td>\n",
       "      <td>2018-08-08 13:50:00</td>\n",
       "      <td>2018-08-17 18:06:29</td>\n",
       "      <td>2018-09-04 00:00:00</td>\n",
       "    </tr>\n",
       "    <tr>\n",
       "      <th>3</th>\n",
       "      <td>949d5b44dbf5de918fe9c16f97b45f8a</td>\n",
       "      <td>f88197465ea7920adcdbec7375364d82</td>\n",
       "      <td>delivered</td>\n",
       "      <td>2017-11-18 19:28:06</td>\n",
       "      <td>2017-11-18 19:45:59</td>\n",
       "      <td>2017-11-22 13:39:59</td>\n",
       "      <td>2017-12-02 00:28:42</td>\n",
       "      <td>2017-12-15 00:00:00</td>\n",
       "    </tr>\n",
       "    <tr>\n",
       "      <th>4</th>\n",
       "      <td>ad21c59c0840e6cb83a9ceb5573f8159</td>\n",
       "      <td>8ab97904e6daea8866dbdbc4fb7aad2c</td>\n",
       "      <td>delivered</td>\n",
       "      <td>2018-02-13 21:18:39</td>\n",
       "      <td>2018-02-13 22:20:29</td>\n",
       "      <td>2018-02-14 19:46:34</td>\n",
       "      <td>2018-02-16 18:17:02</td>\n",
       "      <td>2018-02-26 00:00:00</td>\n",
       "    </tr>\n",
       "  </tbody>\n",
       "</table>\n",
       "</div>"
      ],
      "text/plain": [
       "                           order_id                       customer_id  \\\n",
       "0  e481f51cbdc54678b7cc49136f2d6af7  9ef432eb6251297304e76186b10a928d   \n",
       "1  53cdb2fc8bc7dce0b6741e2150273451  b0830fb4747a6c6d20dea0b8c802d7ef   \n",
       "2  47770eb9100c2d0c44946d9cf07ec65d  41ce2a54c0b03bf3443c3d931a367089   \n",
       "3  949d5b44dbf5de918fe9c16f97b45f8a  f88197465ea7920adcdbec7375364d82   \n",
       "4  ad21c59c0840e6cb83a9ceb5573f8159  8ab97904e6daea8866dbdbc4fb7aad2c   \n",
       "\n",
       "  order_status order_purchase_timestamp    order_approved_at  \\\n",
       "0    delivered      2017-10-02 10:56:33  2017-10-02 11:07:15   \n",
       "1    delivered      2018-07-24 20:41:37  2018-07-26 03:24:27   \n",
       "2    delivered      2018-08-08 08:38:49  2018-08-08 08:55:23   \n",
       "3    delivered      2017-11-18 19:28:06  2017-11-18 19:45:59   \n",
       "4    delivered      2018-02-13 21:18:39  2018-02-13 22:20:29   \n",
       "\n",
       "  order_delivered_carrier_date order_delivered_customer_date  \\\n",
       "0          2017-10-04 19:55:00           2017-10-10 21:25:13   \n",
       "1          2018-07-26 14:31:00           2018-08-07 15:27:45   \n",
       "2          2018-08-08 13:50:00           2018-08-17 18:06:29   \n",
       "3          2017-11-22 13:39:59           2017-12-02 00:28:42   \n",
       "4          2018-02-14 19:46:34           2018-02-16 18:17:02   \n",
       "\n",
       "  order_estimated_delivery_date  \n",
       "0           2017-10-18 00:00:00  \n",
       "1           2018-08-13 00:00:00  \n",
       "2           2018-09-04 00:00:00  \n",
       "3           2017-12-15 00:00:00  \n",
       "4           2018-02-26 00:00:00  "
      ]
     },
     "execution_count": 5,
     "metadata": {},
     "output_type": "execute_result"
    }
   ],
   "source": [
    "orders = orders_raw.copy()\n",
    "payments = payments_raw.copy()\n",
    "reviews = reviews_raw.copy()\n",
    "\n",
    "orders.head()"
   ]
  },
  {
   "cell_type": "code",
   "execution_count": 6,
   "id": "c190305f-6395-4292-991a-0f66aa3babb0",
   "metadata": {},
   "outputs": [
    {
     "data": {
      "text/html": [
       "<div>\n",
       "<style scoped>\n",
       "    .dataframe tbody tr th:only-of-type {\n",
       "        vertical-align: middle;\n",
       "    }\n",
       "\n",
       "    .dataframe tbody tr th {\n",
       "        vertical-align: top;\n",
       "    }\n",
       "\n",
       "    .dataframe thead th {\n",
       "        text-align: right;\n",
       "    }\n",
       "</style>\n",
       "<table border=\"1\" class=\"dataframe\">\n",
       "  <thead>\n",
       "    <tr style=\"text-align: right;\">\n",
       "      <th></th>\n",
       "      <th>order_id</th>\n",
       "      <th>payment_sequential</th>\n",
       "      <th>payment_type</th>\n",
       "      <th>payment_installments</th>\n",
       "      <th>payment_value</th>\n",
       "    </tr>\n",
       "  </thead>\n",
       "  <tbody>\n",
       "    <tr>\n",
       "      <th>0</th>\n",
       "      <td>b81ef226f3fe1789b1e8b2acac839d17</td>\n",
       "      <td>1</td>\n",
       "      <td>credit_card</td>\n",
       "      <td>8</td>\n",
       "      <td>99.33</td>\n",
       "    </tr>\n",
       "    <tr>\n",
       "      <th>1</th>\n",
       "      <td>a9810da82917af2d9aefd1278f1dcfa0</td>\n",
       "      <td>1</td>\n",
       "      <td>credit_card</td>\n",
       "      <td>1</td>\n",
       "      <td>24.39</td>\n",
       "    </tr>\n",
       "    <tr>\n",
       "      <th>2</th>\n",
       "      <td>25e8ea4e93396b6fa0d3dd708e76c1bd</td>\n",
       "      <td>1</td>\n",
       "      <td>credit_card</td>\n",
       "      <td>1</td>\n",
       "      <td>65.71</td>\n",
       "    </tr>\n",
       "    <tr>\n",
       "      <th>3</th>\n",
       "      <td>ba78997921bbcdc1373bb41e913ab953</td>\n",
       "      <td>1</td>\n",
       "      <td>credit_card</td>\n",
       "      <td>8</td>\n",
       "      <td>107.78</td>\n",
       "    </tr>\n",
       "    <tr>\n",
       "      <th>4</th>\n",
       "      <td>42fdf880ba16b47b59251dd489d4441a</td>\n",
       "      <td>1</td>\n",
       "      <td>credit_card</td>\n",
       "      <td>2</td>\n",
       "      <td>128.45</td>\n",
       "    </tr>\n",
       "  </tbody>\n",
       "</table>\n",
       "</div>"
      ],
      "text/plain": [
       "                           order_id  payment_sequential payment_type  \\\n",
       "0  b81ef226f3fe1789b1e8b2acac839d17                   1  credit_card   \n",
       "1  a9810da82917af2d9aefd1278f1dcfa0                   1  credit_card   \n",
       "2  25e8ea4e93396b6fa0d3dd708e76c1bd                   1  credit_card   \n",
       "3  ba78997921bbcdc1373bb41e913ab953                   1  credit_card   \n",
       "4  42fdf880ba16b47b59251dd489d4441a                   1  credit_card   \n",
       "\n",
       "   payment_installments  payment_value  \n",
       "0                     8          99.33  \n",
       "1                     1          24.39  \n",
       "2                     1          65.71  \n",
       "3                     8         107.78  \n",
       "4                     2         128.45  "
      ]
     },
     "execution_count": 6,
     "metadata": {},
     "output_type": "execute_result"
    }
   ],
   "source": [
    "payments.head()"
   ]
  },
  {
   "cell_type": "code",
   "execution_count": 7,
   "id": "b19e406d-b01e-4119-a748-660338ff4fe9",
   "metadata": {},
   "outputs": [
    {
     "data": {
      "text/html": [
       "<div>\n",
       "<style scoped>\n",
       "    .dataframe tbody tr th:only-of-type {\n",
       "        vertical-align: middle;\n",
       "    }\n",
       "\n",
       "    .dataframe tbody tr th {\n",
       "        vertical-align: top;\n",
       "    }\n",
       "\n",
       "    .dataframe thead th {\n",
       "        text-align: right;\n",
       "    }\n",
       "</style>\n",
       "<table border=\"1\" class=\"dataframe\">\n",
       "  <thead>\n",
       "    <tr style=\"text-align: right;\">\n",
       "      <th></th>\n",
       "      <th>review_id</th>\n",
       "      <th>order_id</th>\n",
       "      <th>review_score</th>\n",
       "      <th>review_comment_title</th>\n",
       "      <th>review_comment_message</th>\n",
       "      <th>review_creation_date</th>\n",
       "      <th>review_answer_timestamp</th>\n",
       "    </tr>\n",
       "  </thead>\n",
       "  <tbody>\n",
       "    <tr>\n",
       "      <th>0</th>\n",
       "      <td>7bc2406110b926393aa56f80a40eba40</td>\n",
       "      <td>73fc7af87114b39712e6da79b0a377eb</td>\n",
       "      <td>4</td>\n",
       "      <td>NaN</td>\n",
       "      <td>NaN</td>\n",
       "      <td>2018-01-18 00:00:00</td>\n",
       "      <td>2018-01-18 21:46:59</td>\n",
       "    </tr>\n",
       "    <tr>\n",
       "      <th>1</th>\n",
       "      <td>80e641a11e56f04c1ad469d5645fdfde</td>\n",
       "      <td>a548910a1c6147796b98fdf73dbeba33</td>\n",
       "      <td>5</td>\n",
       "      <td>NaN</td>\n",
       "      <td>NaN</td>\n",
       "      <td>2018-03-10 00:00:00</td>\n",
       "      <td>2018-03-11 03:05:13</td>\n",
       "    </tr>\n",
       "    <tr>\n",
       "      <th>2</th>\n",
       "      <td>228ce5500dc1d8e020d8d1322874b6f0</td>\n",
       "      <td>f9e4b658b201a9f2ecdecbb34bed034b</td>\n",
       "      <td>5</td>\n",
       "      <td>NaN</td>\n",
       "      <td>NaN</td>\n",
       "      <td>2018-02-17 00:00:00</td>\n",
       "      <td>2018-02-18 14:36:24</td>\n",
       "    </tr>\n",
       "    <tr>\n",
       "      <th>3</th>\n",
       "      <td>e64fb393e7b32834bb789ff8bb30750e</td>\n",
       "      <td>658677c97b385a9be170737859d3511b</td>\n",
       "      <td>5</td>\n",
       "      <td>NaN</td>\n",
       "      <td>Recebi bem antes do prazo estipulado.</td>\n",
       "      <td>2017-04-21 00:00:00</td>\n",
       "      <td>2017-04-21 22:02:06</td>\n",
       "    </tr>\n",
       "    <tr>\n",
       "      <th>4</th>\n",
       "      <td>f7c4243c7fe1938f181bec41a392bdeb</td>\n",
       "      <td>8e6bfb81e283fa7e4f11123a3fb894f1</td>\n",
       "      <td>5</td>\n",
       "      <td>NaN</td>\n",
       "      <td>Parabéns lojas lannister adorei comprar pela I...</td>\n",
       "      <td>2018-03-01 00:00:00</td>\n",
       "      <td>2018-03-02 10:26:53</td>\n",
       "    </tr>\n",
       "  </tbody>\n",
       "</table>\n",
       "</div>"
      ],
      "text/plain": [
       "                          review_id                          order_id  \\\n",
       "0  7bc2406110b926393aa56f80a40eba40  73fc7af87114b39712e6da79b0a377eb   \n",
       "1  80e641a11e56f04c1ad469d5645fdfde  a548910a1c6147796b98fdf73dbeba33   \n",
       "2  228ce5500dc1d8e020d8d1322874b6f0  f9e4b658b201a9f2ecdecbb34bed034b   \n",
       "3  e64fb393e7b32834bb789ff8bb30750e  658677c97b385a9be170737859d3511b   \n",
       "4  f7c4243c7fe1938f181bec41a392bdeb  8e6bfb81e283fa7e4f11123a3fb894f1   \n",
       "\n",
       "   review_score review_comment_title  \\\n",
       "0             4                  NaN   \n",
       "1             5                  NaN   \n",
       "2             5                  NaN   \n",
       "3             5                  NaN   \n",
       "4             5                  NaN   \n",
       "\n",
       "                              review_comment_message review_creation_date  \\\n",
       "0                                                NaN  2018-01-18 00:00:00   \n",
       "1                                                NaN  2018-03-10 00:00:00   \n",
       "2                                                NaN  2018-02-17 00:00:00   \n",
       "3              Recebi bem antes do prazo estipulado.  2017-04-21 00:00:00   \n",
       "4  Parabéns lojas lannister adorei comprar pela I...  2018-03-01 00:00:00   \n",
       "\n",
       "  review_answer_timestamp  \n",
       "0     2018-01-18 21:46:59  \n",
       "1     2018-03-11 03:05:13  \n",
       "2     2018-02-18 14:36:24  \n",
       "3     2017-04-21 22:02:06  \n",
       "4     2018-03-02 10:26:53  "
      ]
     },
     "execution_count": 7,
     "metadata": {},
     "output_type": "execute_result"
    }
   ],
   "source": [
    "reviews.head()"
   ]
  },
  {
   "cell_type": "markdown",
   "id": "96157c3e-7122-4e51-b893-73dc4faa3745",
   "metadata": {},
   "source": [
    "### MISSING VALUES"
   ]
  },
  {
   "cell_type": "code",
   "execution_count": 8,
   "id": "3bb4e444-5e45-42f0-bec4-86e6f6b6af1f",
   "metadata": {},
   "outputs": [
    {
     "name": "stdout",
     "output_type": "stream",
     "text": [
      "Percentage of nan values in orders dataset:\n",
      "order_approved_at             : 0.16\n",
      "order_delivered_carrier_date  : 1.79\n",
      "order_delivered_customer_date : 2.98\n"
     ]
    }
   ],
   "source": [
    "nan_features_orders = [feature for feature in orders.columns if orders[feature].isnull().sum()>1]\n",
    "\n",
    "print(\"Percentage of nan values in orders dataset:\")\n",
    "for feature in nan_features_orders:\n",
    "    print(f\"{feature:<29} : {100*np.round(orders[feature].isnull().mean(), 4)}\")"
   ]
  },
  {
   "cell_type": "code",
   "execution_count": 9,
   "id": "513a97e2-edd9-4762-9f1a-8385e679061f",
   "metadata": {},
   "outputs": [
    {
     "name": "stdout",
     "output_type": "stream",
     "text": [
      "Percentage of nan values in payments dataset:\n"
     ]
    }
   ],
   "source": [
    "nan_features_payments = [feature for feature in payments.columns if payments[feature].isnull().sum()>1]\n",
    "\n",
    "print(\"Percentage of nan values in payments dataset:\")\n",
    "for feature in nan_features_payments:\n",
    "    print(f\"{feature:<29} : {100*np.round(payments[feature].isnull().mean(), 4)}\")"
   ]
  },
  {
   "cell_type": "code",
   "execution_count": 10,
   "id": "b66dced6-6c5f-463d-987a-f697173e41c7",
   "metadata": {},
   "outputs": [
    {
     "name": "stdout",
     "output_type": "stream",
     "text": [
      "Percentage of nan values in reviews dataset:\n",
      "review_comment_title          : 88.34\n",
      "review_comment_message        : 58.699999999999996\n"
     ]
    }
   ],
   "source": [
    "nan_features_reviews = [feature for feature in reviews.columns if reviews[feature].isnull().sum()>1]\n",
    "\n",
    "print(\"Percentage of nan values in reviews dataset:\")\n",
    "for feature in nan_features_reviews:\n",
    "    print(f\"{feature:<29} : {100*np.round(reviews[feature].isnull().mean(), 4)}\")"
   ]
  },
  {
   "cell_type": "code",
   "execution_count": 11,
   "id": "7d529d62-00ab-4723-8444-73efee87ebf7",
   "metadata": {},
   "outputs": [
    {
     "data": {
      "image/png": "[encoded data removed]",
      "text/plain": [
       "<Figure size 640x480 with 1 Axes>"
      ]
     },
     "metadata": {},
     "output_type": "display_data"
    },
    {
     "data": {
      "image/png": "[encoded data removed]",
      "text/plain": [
       "<Figure size 640x480 with 1 Axes>"
      ]
     },
     "metadata": {},
     "output_type": "display_data"
    }
   ],
   "source": [
    "for df in [orders, reviews]:\n",
    "    sns.heatmap(df.isnull(), yticklabels=False, cbar=False, cmap='tab20')\n",
    "    plt.show()"
   ]
  },
  {
   "cell_type": "markdown",
   "id": "3e215bf8-8b1f-4dab-99d8-864078b6ebad",
   "metadata": {},
   "source": [
    "#### HANDLING MISSING VALUES"
   ]
  },
  {
   "cell_type": "markdown",
   "id": "03495901-f453-46ac-b4ab-2d433dc9f5eb",
   "metadata": {},
   "source": [
    "#### Orders"
   ]
  },
  {
   "cell_type": "code",
   "execution_count": 12,
   "id": "44d3c9ee-ed7d-4a51-8e09-d58451db40d6",
   "metadata": {},
   "outputs": [
    {
     "name": "stdout",
     "output_type": "stream",
     "text": [
      "order_approved_at             : 0.0\n",
      "order_delivered_carrier_date  : 0.0\n",
      "order_delivered_customer_date : 0.0\n"
     ]
    }
   ],
   "source": [
    "# Fill NA with placeholder\n",
    "for feature in nan_features_orders:\n",
    "    orders[feature] = orders[feature].fillna('Missing')\n",
    "    print(f\"{feature:29} : {np.round(orders[feature].isnull().mean(), 4)}\")"
   ]
  },
  {
   "cell_type": "code",
   "execution_count": 13,
   "id": "fa06ae97-180c-4086-b6b7-d485d3901836",
   "metadata": {},
   "outputs": [
    {
     "name": "stdout",
     "output_type": "stream",
     "text": [
      "review_comment_title      : 0.0\n",
      "review_comment_message    : 0.0\n"
     ]
    }
   ],
   "source": [
    "reviews['review_comment_title'] = reviews['review_comment_title'].fillna(\"No title\")\n",
    "reviews['review_comment_message'] = reviews['review_comment_message'].fillna(\"No comment\")\n",
    "for feature in nan_features_reviews:\n",
    "    print(f\"{feature:<25} : {np.round(reviews[feature].isnull().mean(), 4)}\")"
   ]
  },
  {
   "cell_type": "markdown",
   "id": "a336f642-a489-4a3f-a55f-102cebf4d951",
   "metadata": {},
   "source": [
    "### TEMPORAL VARIABLES"
   ]
  },
  {
   "cell_type": "markdown",
   "id": "c57c5123-2f5c-4fe4-b96e-5719b22b98a7",
   "metadata": {},
   "source": [
    "<div class = 'alert alert-block alert-warning'>\n",
    "    It is obvious that the temporal variables are object type when they should in fact be datetime type.\n",
    "</div>"
   ]
  },
  {
   "cell_type": "code",
   "execution_count": 14,
   "id": "d3878c61-11d6-456a-a1fe-1babf0cb2a19",
   "metadata": {},
   "outputs": [
    {
     "data": {
      "text/plain": [
       "['order_purchase_timestamp',\n",
       " 'order_approved_at',\n",
       " 'order_delivered_carrier_date',\n",
       " 'order_delivered_customer_date',\n",
       " 'order_estimated_delivery_date']"
      ]
     },
     "execution_count": 14,
     "metadata": {},
     "output_type": "execute_result"
    }
   ],
   "source": [
    "datetime_features_orders = [feature for feature in orders.columns if 'order' in feature and feature not in ['order_id', 'order_status']]\n",
    "datetime_features_orders"
   ]
  },
  {
   "cell_type": "code",
   "execution_count": 15,
   "id": "c2657843-4b53-49ce-80f0-776844830736",
   "metadata": {},
   "outputs": [
    {
     "data": {
      "text/plain": [
       "order_id                                 object\n",
       "customer_id                              object\n",
       "order_status                             object\n",
       "order_purchase_timestamp         datetime64[ns]\n",
       "order_approved_at                datetime64[ns]\n",
       "order_delivered_carrier_date     datetime64[ns]\n",
       "order_delivered_customer_date    datetime64[ns]\n",
       "order_estimated_delivery_date    datetime64[ns]\n",
       "dtype: object"
      ]
     },
     "execution_count": 15,
     "metadata": {},
     "output_type": "execute_result"
    }
   ],
   "source": [
    "for feature in datetime_features_orders:\n",
    "    orders[feature] = pd.to_datetime(orders[feature], errors='coerce')\n",
    "orders.dtypes"
   ]
  },
  {
   "cell_type": "markdown",
   "id": "7cb311c4-bbdd-4b5a-b0bb-7d5f802065e8",
   "metadata": {},
   "source": [
    "<div class = 'alert alert-block alert-success'>\n",
    "    Let's follow the same approach for columns in reviews that are to be converted into datetime.\n",
    "</div>"
   ]
  },
  {
   "cell_type": "code",
   "execution_count": 16,
   "id": "2e89eabf-d9ef-456e-a383-185dcaeb9854",
   "metadata": {},
   "outputs": [
    {
     "data": {
      "text/plain": [
       "review_id                          object\n",
       "order_id                           object\n",
       "review_score                        int64\n",
       "review_comment_title               object\n",
       "review_comment_message             object\n",
       "review_creation_date       datetime64[ns]\n",
       "review_answer_timestamp    datetime64[ns]\n",
       "dtype: object"
      ]
     },
     "execution_count": 16,
     "metadata": {},
     "output_type": "execute_result"
    }
   ],
   "source": [
    "datetime_features_reviews = ['review_creation_date', 'review_answer_timestamp']\n",
    "for feature in datetime_features_reviews:\n",
    "    reviews[feature] = pd.to_datetime(reviews[feature], errors='coerce')\n",
    "reviews.dtypes"
   ]
  },
  {
   "cell_type": "markdown",
   "id": "ebaee437-3283-42fd-8915-4d800fc55f5d",
   "metadata": {},
   "source": [
    "#### Engineering new features from datetime features"
   ]
  },
  {
   "cell_type": "markdown",
   "id": "915da1e3-336d-4edc-b884-00fae291a1f5",
   "metadata": {},
   "source": [
    "##### Approval Time (in hours)"
   ]
  },
  {
   "cell_type": "code",
   "execution_count": 17,
   "id": "598ed09f-c33a-476a-8d9b-2f715e478242",
   "metadata": {},
   "outputs": [
    {
     "data": {
      "text/plain": [
       "0     0.178333\n",
       "1    30.713889\n",
       "2     0.276111\n",
       "3     0.298056\n",
       "4     1.030556\n",
       "Name: approval_time, dtype: float64"
      ]
     },
     "execution_count": 17,
     "metadata": {},
     "output_type": "execute_result"
    }
   ],
   "source": [
    "orders['approval_time'] = (orders['order_approved_at'] - orders['order_purchase_timestamp']).dt.total_seconds() / 3600\n",
    "orders['approval_time'].head()"
   ]
  },
  {
   "cell_type": "markdown",
   "id": "e64fac32-e51e-4995-93d3-6d252fe743f9",
   "metadata": {},
   "source": [
    "##### Delivery time (in days)"
   ]
  },
  {
   "cell_type": "code",
   "execution_count": 18,
   "id": "76d5135a-bfa8-4284-817e-7c916f4f0978",
   "metadata": {},
   "outputs": [
    {
     "data": {
      "text/plain": [
       "0     8.0\n",
       "1    13.0\n",
       "2     9.0\n",
       "3    13.0\n",
       "4     2.0\n",
       "Name: delivery_time, dtype: float64"
      ]
     },
     "execution_count": 18,
     "metadata": {},
     "output_type": "execute_result"
    }
   ],
   "source": [
    "orders['delivery_time'] = (orders['order_delivered_customer_date'] - orders['order_purchase_timestamp']).dt.days\n",
    "orders['delivery_time'].head()"
   ]
  },
  {
   "cell_type": "markdown",
   "id": "f2902c93-a84e-4560-8f81-807e92401dcb",
   "metadata": {},
   "source": [
    "##### Shipping Time (in days)"
   ]
  },
  {
   "cell_type": "code",
   "execution_count": 19,
   "id": "d9525ae6-c54e-4657-a1a3-9caa4dbe860d",
   "metadata": {},
   "outputs": [
    {
     "data": {
      "text/plain": [
       "0     6.0\n",
       "1    12.0\n",
       "2     9.0\n",
       "3     9.0\n",
       "4     1.0\n",
       "Name: shipping_time, dtype: float64"
      ]
     },
     "execution_count": 19,
     "metadata": {},
     "output_type": "execute_result"
    }
   ],
   "source": [
    "orders['shipping_time'] = (orders['order_delivered_customer_date'] - orders['order_delivered_carrier_date']).dt.days\n",
    "orders['shipping_time'].head()"
   ]
  },
  {
   "cell_type": "markdown",
   "id": "1cf52a2f-3dbe-4a67-ac01-41d703029c07",
   "metadata": {},
   "source": [
    "##### Estimated vs. Actual Delivery (in days)\n",
    "Positive = Late Delivery<br>\n",
    "Negative = Early Delivery"
   ]
  },
  {
   "cell_type": "code",
   "execution_count": 20,
   "id": "ee192afb-0780-43db-8cc4-5571853a7da0",
   "metadata": {},
   "outputs": [
    {
     "data": {
      "text/plain": [
       "0    -8.0\n",
       "1    -6.0\n",
       "2   -18.0\n",
       "3   -13.0\n",
       "4   -10.0\n",
       "Name: delivery_delay, dtype: float64"
      ]
     },
     "execution_count": 20,
     "metadata": {},
     "output_type": "execute_result"
    }
   ],
   "source": [
    "orders['delivery_delay'] = (orders['order_delivered_customer_date'] - orders['order_estimated_delivery_date']).dt.days\n",
    "orders['delivery_delay'].head()"
   ]
  },
  {
   "cell_type": "markdown",
   "id": "c7b922a4-948d-4861-a484-e0cdc98a8c47",
   "metadata": {},
   "source": [
    "##### Delivered Status\n",
    "1 = delivered<br>\n",
    "0 = not delivered"
   ]
  },
  {
   "cell_type": "code",
   "execution_count": 21,
   "id": "e79d44dd-951f-4949-8cb7-50761e066a59",
   "metadata": {},
   "outputs": [
    {
     "data": {
      "text/plain": [
       "0    1\n",
       "1    1\n",
       "2    1\n",
       "3    1\n",
       "4    1\n",
       "Name: delivered_flag, dtype: int64"
      ]
     },
     "execution_count": 21,
     "metadata": {},
     "output_type": "execute_result"
    }
   ],
   "source": [
    "orders['delivered_flag'] = orders['order_delivered_customer_date'].notna().astype(int)\n",
    "orders['delivered_flag'].head()"
   ]
  },
  {
   "cell_type": "markdown",
   "id": "6179b232-a5f7-4141-a9bb-dfd3c1fc9818",
   "metadata": {},
   "source": [
    "### CATEGORICAL VARIABLES"
   ]
  },
  {
   "cell_type": "code",
   "execution_count": 22,
   "id": "30a4316c-8619-4508-a462-624954940984",
   "metadata": {},
   "outputs": [],
   "source": [
    "from utils.cleaning import normalize_all\n",
    "\n",
    "orders_clean, payments_clean, reviews_clean = normalize_all(orders, payments, reviews)"
   ]
  },
  {
   "cell_type": "code",
   "execution_count": 23,
   "id": "8bab6c5e-3ead-4c3a-bbbf-cec2620f4d6b",
   "metadata": {},
   "outputs": [
    {
     "data": {
      "text/html": [
       "<div>\n",
       "<style scoped>\n",
       "    .dataframe tbody tr th:only-of-type {\n",
       "        vertical-align: middle;\n",
       "    }\n",
       "\n",
       "    .dataframe tbody tr th {\n",
       "        vertical-align: top;\n",
       "    }\n",
       "\n",
       "    .dataframe thead th {\n",
       "        text-align: right;\n",
       "    }\n",
       "</style>\n",
       "<table border=\"1\" class=\"dataframe\">\n",
       "  <thead>\n",
       "    <tr style=\"text-align: right;\">\n",
       "      <th></th>\n",
       "      <th>order_id</th>\n",
       "      <th>customer_id</th>\n",
       "      <th>order_status</th>\n",
       "      <th>order_purchase_timestamp</th>\n",
       "      <th>order_approved_at</th>\n",
       "      <th>order_delivered_carrier_date</th>\n",
       "      <th>order_delivered_customer_date</th>\n",
       "      <th>order_estimated_delivery_date</th>\n",
       "      <th>approval_time</th>\n",
       "      <th>delivery_time</th>\n",
       "      <th>shipping_time</th>\n",
       "      <th>delivery_delay</th>\n",
       "      <th>delivered_flag</th>\n",
       "    </tr>\n",
       "  </thead>\n",
       "  <tbody>\n",
       "    <tr>\n",
       "      <th>0</th>\n",
       "      <td>e481f51cbdc54678b7cc49136f2d6af7</td>\n",
       "      <td>9ef432eb6251297304e76186b10a928d</td>\n",
       "      <td>delivered</td>\n",
       "      <td>2017-10-02 10:56:33</td>\n",
       "      <td>2017-10-02 11:07:15</td>\n",
       "      <td>2017-10-04 19:55:00</td>\n",
       "      <td>2017-10-10 21:25:13</td>\n",
       "      <td>2017-10-18</td>\n",
       "      <td>0.178333</td>\n",
       "      <td>8.0</td>\n",
       "      <td>6.0</td>\n",
       "      <td>-8.0</td>\n",
       "      <td>1</td>\n",
       "    </tr>\n",
       "    <tr>\n",
       "      <th>1</th>\n",
       "      <td>53cdb2fc8bc7dce0b6741e2150273451</td>\n",
       "      <td>b0830fb4747a6c6d20dea0b8c802d7ef</td>\n",
       "      <td>delivered</td>\n",
       "      <td>2018-07-24 20:41:37</td>\n",
       "      <td>2018-07-26 03:24:27</td>\n",
       "      <td>2018-07-26 14:31:00</td>\n",
       "      <td>2018-08-07 15:27:45</td>\n",
       "      <td>2018-08-13</td>\n",
       "      <td>30.713889</td>\n",
       "      <td>13.0</td>\n",
       "      <td>12.0</td>\n",
       "      <td>-6.0</td>\n",
       "      <td>1</td>\n",
       "    </tr>\n",
       "    <tr>\n",
       "      <th>2</th>\n",
       "      <td>47770eb9100c2d0c44946d9cf07ec65d</td>\n",
       "      <td>41ce2a54c0b03bf3443c3d931a367089</td>\n",
       "      <td>delivered</td>\n",
       "      <td>2018-08-08 08:38:49</td>\n",
       "      <td>2018-08-08 08:55:23</td>\n",
       "      <td>2018-08-08 13:50:00</td>\n",
       "      <td>2018-08-17 18:06:29</td>\n",
       "      <td>2018-09-04</td>\n",
       "      <td>0.276111</td>\n",
       "      <td>9.0</td>\n",
       "      <td>9.0</td>\n",
       "      <td>-18.0</td>\n",
       "      <td>1</td>\n",
       "    </tr>\n",
       "    <tr>\n",
       "      <th>3</th>\n",
       "      <td>949d5b44dbf5de918fe9c16f97b45f8a</td>\n",
       "      <td>f88197465ea7920adcdbec7375364d82</td>\n",
       "      <td>delivered</td>\n",
       "      <td>2017-11-18 19:28:06</td>\n",
       "      <td>2017-11-18 19:45:59</td>\n",
       "      <td>2017-11-22 13:39:59</td>\n",
       "      <td>2017-12-02 00:28:42</td>\n",
       "      <td>2017-12-15</td>\n",
       "      <td>0.298056</td>\n",
       "      <td>13.0</td>\n",
       "      <td>9.0</td>\n",
       "      <td>-13.0</td>\n",
       "      <td>1</td>\n",
       "    </tr>\n",
       "    <tr>\n",
       "      <th>4</th>\n",
       "      <td>ad21c59c0840e6cb83a9ceb5573f8159</td>\n",
       "      <td>8ab97904e6daea8866dbdbc4fb7aad2c</td>\n",
       "      <td>delivered</td>\n",
       "      <td>2018-02-13 21:18:39</td>\n",
       "      <td>2018-02-13 22:20:29</td>\n",
       "      <td>2018-02-14 19:46:34</td>\n",
       "      <td>2018-02-16 18:17:02</td>\n",
       "      <td>2018-02-26</td>\n",
       "      <td>1.030556</td>\n",
       "      <td>2.0</td>\n",
       "      <td>1.0</td>\n",
       "      <td>-10.0</td>\n",
       "      <td>1</td>\n",
       "    </tr>\n",
       "  </tbody>\n",
       "</table>\n",
       "</div>"
      ],
      "text/plain": [
       "                           order_id                       customer_id  \\\n",
       "0  e481f51cbdc54678b7cc49136f2d6af7  9ef432eb6251297304e76186b10a928d   \n",
       "1  53cdb2fc8bc7dce0b6741e2150273451  b0830fb4747a6c6d20dea0b8c802d7ef   \n",
       "2  47770eb9100c2d0c44946d9cf07ec65d  41ce2a54c0b03bf3443c3d931a367089   \n",
       "3  949d5b44dbf5de918fe9c16f97b45f8a  f88197465ea7920adcdbec7375364d82   \n",
       "4  ad21c59c0840e6cb83a9ceb5573f8159  8ab97904e6daea8866dbdbc4fb7aad2c   \n",
       "\n",
       "  order_status order_purchase_timestamp   order_approved_at  \\\n",
       "0    delivered      2017-10-02 10:56:33 2017-10-02 11:07:15   \n",
       "1    delivered      2018-07-24 20:41:37 2018-07-26 03:24:27   \n",
       "2    delivered      2018-08-08 08:38:49 2018-08-08 08:55:23   \n",
       "3    delivered      2017-11-18 19:28:06 2017-11-18 19:45:59   \n",
       "4    delivered      2018-02-13 21:18:39 2018-02-13 22:20:29   \n",
       "\n",
       "  order_delivered_carrier_date order_delivered_customer_date  \\\n",
       "0          2017-10-04 19:55:00           2017-10-10 21:25:13   \n",
       "1          2018-07-26 14:31:00           2018-08-07 15:27:45   \n",
       "2          2018-08-08 13:50:00           2018-08-17 18:06:29   \n",
       "3          2017-11-22 13:39:59           2017-12-02 00:28:42   \n",
       "4          2018-02-14 19:46:34           2018-02-16 18:17:02   \n",
       "\n",
       "  order_estimated_delivery_date  approval_time  delivery_time  shipping_time  \\\n",
       "0                    2017-10-18       0.178333            8.0            6.0   \n",
       "1                    2018-08-13      30.713889           13.0           12.0   \n",
       "2                    2018-09-04       0.276111            9.0            9.0   \n",
       "3                    2017-12-15       0.298056           13.0            9.0   \n",
       "4                    2018-02-26       1.030556            2.0            1.0   \n",
       "\n",
       "   delivery_delay  delivered_flag  \n",
       "0            -8.0               1  \n",
       "1            -6.0               1  \n",
       "2           -18.0               1  \n",
       "3           -13.0               1  \n",
       "4           -10.0               1  "
      ]
     },
     "execution_count": 23,
     "metadata": {},
     "output_type": "execute_result"
    }
   ],
   "source": [
    "orders = orders_clean\n",
    "orders.head()"
   ]
  },
  {
   "cell_type": "code",
   "execution_count": 24,
   "id": "60182961-d34d-4767-a131-8ee6ea797cfb",
   "metadata": {},
   "outputs": [
    {
     "data": {
      "text/html": [
       "<div>\n",
       "<style scoped>\n",
       "    .dataframe tbody tr th:only-of-type {\n",
       "        vertical-align: middle;\n",
       "    }\n",
       "\n",
       "    .dataframe tbody tr th {\n",
       "        vertical-align: top;\n",
       "    }\n",
       "\n",
       "    .dataframe thead th {\n",
       "        text-align: right;\n",
       "    }\n",
       "</style>\n",
       "<table border=\"1\" class=\"dataframe\">\n",
       "  <thead>\n",
       "    <tr style=\"text-align: right;\">\n",
       "      <th></th>\n",
       "      <th>order_id</th>\n",
       "      <th>payment_sequential</th>\n",
       "      <th>payment_type</th>\n",
       "      <th>payment_installments</th>\n",
       "      <th>payment_value</th>\n",
       "    </tr>\n",
       "  </thead>\n",
       "  <tbody>\n",
       "    <tr>\n",
       "      <th>0</th>\n",
       "      <td>b81ef226f3fe1789b1e8b2acac839d17</td>\n",
       "      <td>1</td>\n",
       "      <td>credit_card</td>\n",
       "      <td>8</td>\n",
       "      <td>99.33</td>\n",
       "    </tr>\n",
       "    <tr>\n",
       "      <th>1</th>\n",
       "      <td>a9810da82917af2d9aefd1278f1dcfa0</td>\n",
       "      <td>1</td>\n",
       "      <td>credit_card</td>\n",
       "      <td>1</td>\n",
       "      <td>24.39</td>\n",
       "    </tr>\n",
       "    <tr>\n",
       "      <th>2</th>\n",
       "      <td>25e8ea4e93396b6fa0d3dd708e76c1bd</td>\n",
       "      <td>1</td>\n",
       "      <td>credit_card</td>\n",
       "      <td>1</td>\n",
       "      <td>65.71</td>\n",
       "    </tr>\n",
       "    <tr>\n",
       "      <th>3</th>\n",
       "      <td>ba78997921bbcdc1373bb41e913ab953</td>\n",
       "      <td>1</td>\n",
       "      <td>credit_card</td>\n",
       "      <td>8</td>\n",
       "      <td>107.78</td>\n",
       "    </tr>\n",
       "    <tr>\n",
       "      <th>4</th>\n",
       "      <td>42fdf880ba16b47b59251dd489d4441a</td>\n",
       "      <td>1</td>\n",
       "      <td>credit_card</td>\n",
       "      <td>2</td>\n",
       "      <td>128.45</td>\n",
       "    </tr>\n",
       "  </tbody>\n",
       "</table>\n",
       "</div>"
      ],
      "text/plain": [
       "                           order_id  payment_sequential payment_type  \\\n",
       "0  b81ef226f3fe1789b1e8b2acac839d17                   1  credit_card   \n",
       "1  a9810da82917af2d9aefd1278f1dcfa0                   1  credit_card   \n",
       "2  25e8ea4e93396b6fa0d3dd708e76c1bd                   1  credit_card   \n",
       "3  ba78997921bbcdc1373bb41e913ab953                   1  credit_card   \n",
       "4  42fdf880ba16b47b59251dd489d4441a                   1  credit_card   \n",
       "\n",
       "   payment_installments  payment_value  \n",
       "0                     8          99.33  \n",
       "1                     1          24.39  \n",
       "2                     1          65.71  \n",
       "3                     8         107.78  \n",
       "4                     2         128.45  "
      ]
     },
     "execution_count": 24,
     "metadata": {},
     "output_type": "execute_result"
    }
   ],
   "source": [
    "payments = payments_clean\n",
    "payments.head()"
   ]
  },
  {
   "cell_type": "code",
   "execution_count": 25,
   "id": "37171ca6-e310-4e40-9b4a-e07a626329c2",
   "metadata": {},
   "outputs": [
    {
     "data": {
      "text/html": [
       "<div>\n",
       "<style scoped>\n",
       "    .dataframe tbody tr th:only-of-type {\n",
       "        vertical-align: middle;\n",
       "    }\n",
       "\n",
       "    .dataframe tbody tr th {\n",
       "        vertical-align: top;\n",
       "    }\n",
       "\n",
       "    .dataframe thead th {\n",
       "        text-align: right;\n",
       "    }\n",
       "</style>\n",
       "<table border=\"1\" class=\"dataframe\">\n",
       "  <thead>\n",
       "    <tr style=\"text-align: right;\">\n",
       "      <th></th>\n",
       "      <th>review_id</th>\n",
       "      <th>order_id</th>\n",
       "      <th>review_score</th>\n",
       "      <th>review_comment_title</th>\n",
       "      <th>review_comment_message</th>\n",
       "      <th>review_creation_date</th>\n",
       "      <th>review_answer_timestamp</th>\n",
       "    </tr>\n",
       "  </thead>\n",
       "  <tbody>\n",
       "    <tr>\n",
       "      <th>0</th>\n",
       "      <td>7bc2406110b926393aa56f80a40eba40</td>\n",
       "      <td>73fc7af87114b39712e6da79b0a377eb</td>\n",
       "      <td>4</td>\n",
       "      <td>no title</td>\n",
       "      <td>no comment</td>\n",
       "      <td>2018-01-18</td>\n",
       "      <td>2018-01-18 21:46:59</td>\n",
       "    </tr>\n",
       "    <tr>\n",
       "      <th>1</th>\n",
       "      <td>80e641a11e56f04c1ad469d5645fdfde</td>\n",
       "      <td>a548910a1c6147796b98fdf73dbeba33</td>\n",
       "      <td>5</td>\n",
       "      <td>no title</td>\n",
       "      <td>no comment</td>\n",
       "      <td>2018-03-10</td>\n",
       "      <td>2018-03-11 03:05:13</td>\n",
       "    </tr>\n",
       "    <tr>\n",
       "      <th>2</th>\n",
       "      <td>228ce5500dc1d8e020d8d1322874b6f0</td>\n",
       "      <td>f9e4b658b201a9f2ecdecbb34bed034b</td>\n",
       "      <td>5</td>\n",
       "      <td>no title</td>\n",
       "      <td>no comment</td>\n",
       "      <td>2018-02-17</td>\n",
       "      <td>2018-02-18 14:36:24</td>\n",
       "    </tr>\n",
       "    <tr>\n",
       "      <th>3</th>\n",
       "      <td>e64fb393e7b32834bb789ff8bb30750e</td>\n",
       "      <td>658677c97b385a9be170737859d3511b</td>\n",
       "      <td>5</td>\n",
       "      <td>no title</td>\n",
       "      <td>recebi bem antes do prazo estipulado.</td>\n",
       "      <td>2017-04-21</td>\n",
       "      <td>2017-04-21 22:02:06</td>\n",
       "    </tr>\n",
       "    <tr>\n",
       "      <th>4</th>\n",
       "      <td>f7c4243c7fe1938f181bec41a392bdeb</td>\n",
       "      <td>8e6bfb81e283fa7e4f11123a3fb894f1</td>\n",
       "      <td>5</td>\n",
       "      <td>no title</td>\n",
       "      <td>parabéns lojas lannister adorei comprar pela i...</td>\n",
       "      <td>2018-03-01</td>\n",
       "      <td>2018-03-02 10:26:53</td>\n",
       "    </tr>\n",
       "  </tbody>\n",
       "</table>\n",
       "</div>"
      ],
      "text/plain": [
       "                          review_id                          order_id  \\\n",
       "0  7bc2406110b926393aa56f80a40eba40  73fc7af87114b39712e6da79b0a377eb   \n",
       "1  80e641a11e56f04c1ad469d5645fdfde  a548910a1c6147796b98fdf73dbeba33   \n",
       "2  228ce5500dc1d8e020d8d1322874b6f0  f9e4b658b201a9f2ecdecbb34bed034b   \n",
       "3  e64fb393e7b32834bb789ff8bb30750e  658677c97b385a9be170737859d3511b   \n",
       "4  f7c4243c7fe1938f181bec41a392bdeb  8e6bfb81e283fa7e4f11123a3fb894f1   \n",
       "\n",
       "   review_score review_comment_title  \\\n",
       "0             4             no title   \n",
       "1             5             no title   \n",
       "2             5             no title   \n",
       "3             5             no title   \n",
       "4             5             no title   \n",
       "\n",
       "                              review_comment_message review_creation_date  \\\n",
       "0                                         no comment           2018-01-18   \n",
       "1                                         no comment           2018-03-10   \n",
       "2                                         no comment           2018-02-17   \n",
       "3              recebi bem antes do prazo estipulado.           2017-04-21   \n",
       "4  parabéns lojas lannister adorei comprar pela i...           2018-03-01   \n",
       "\n",
       "  review_answer_timestamp  \n",
       "0     2018-01-18 21:46:59  \n",
       "1     2018-03-11 03:05:13  \n",
       "2     2018-02-18 14:36:24  \n",
       "3     2017-04-21 22:02:06  \n",
       "4     2018-03-02 10:26:53  "
      ]
     },
     "execution_count": 25,
     "metadata": {},
     "output_type": "execute_result"
    }
   ],
   "source": [
    "reviews = reviews_clean\n",
    "reviews.head()"
   ]
  },
  {
   "cell_type": "markdown",
   "id": "4a424ae6-e976-425e-97ad-520d5b026f21",
   "metadata": {},
   "source": [
    "### DATA TYPES"
   ]
  },
  {
   "cell_type": "code",
   "execution_count": 26,
   "id": "9db8a0c5-6f50-4a78-ba21-0d870bf81949",
   "metadata": {},
   "outputs": [
    {
     "data": {
      "text/plain": [
       "order_id                                 object\n",
       "customer_id                              object\n",
       "order_status                             object\n",
       "order_purchase_timestamp         datetime64[ns]\n",
       "order_approved_at                datetime64[ns]\n",
       "order_delivered_carrier_date     datetime64[ns]\n",
       "order_delivered_customer_date    datetime64[ns]\n",
       "order_estimated_delivery_date    datetime64[ns]\n",
       "approval_time                           float64\n",
       "delivery_time                           float64\n",
       "shipping_time                           float64\n",
       "delivery_delay                          float64\n",
       "delivered_flag                            int64\n",
       "dtype: object"
      ]
     },
     "execution_count": 26,
     "metadata": {},
     "output_type": "execute_result"
    }
   ],
   "source": [
    "orders.dtypes"
   ]
  },
  {
   "cell_type": "code",
   "execution_count": 27,
   "id": "762bf884-068d-4a1e-88a8-18b81b7358b7",
   "metadata": {},
   "outputs": [
    {
     "data": {
      "text/plain": [
       "order_id                 object\n",
       "payment_sequential        int64\n",
       "payment_type             object\n",
       "payment_installments      int64\n",
       "payment_value           float64\n",
       "dtype: object"
      ]
     },
     "execution_count": 27,
     "metadata": {},
     "output_type": "execute_result"
    }
   ],
   "source": [
    "payments.dtypes"
   ]
  },
  {
   "cell_type": "code",
   "execution_count": 28,
   "id": "4ff2cdd9-b284-4192-8539-ad0f82ff26d8",
   "metadata": {},
   "outputs": [
    {
     "data": {
      "text/plain": [
       "review_id                          object\n",
       "order_id                           object\n",
       "review_score                        int64\n",
       "review_comment_title               object\n",
       "review_comment_message             object\n",
       "review_creation_date       datetime64[ns]\n",
       "review_answer_timestamp    datetime64[ns]\n",
       "dtype: object"
      ]
     },
     "execution_count": 28,
     "metadata": {},
     "output_type": "execute_result"
    }
   ],
   "source": [
    "reviews.dtypes"
   ]
  },
  {
   "cell_type": "markdown",
   "id": "a941c9bf-00b1-438e-bada-d4fd9a83f8f6",
   "metadata": {},
   "source": [
    "### CONTINUOUS VARIABLES"
   ]
  },
  {
   "cell_type": "markdown",
   "id": "06f29295-fa96-4300-b6ee-52ea73556144",
   "metadata": {},
   "source": [
    "#### Orders"
   ]
  },
  {
   "cell_type": "code",
   "execution_count": 29,
   "id": "3f2a1643-0370-4285-9545-2c3d3d14a457",
   "metadata": {},
   "outputs": [
    {
     "data": {
      "text/plain": [
       "['approval_time', 'delivery_time', 'shipping_time', 'delivery_delay']"
      ]
     },
     "execution_count": 29,
     "metadata": {},
     "output_type": "execute_result"
    }
   ],
   "source": [
    "cont_features_orders = [feature for feature in orders.columns if orders[feature].dtype == 'float64']\n",
    "cont_features_orders"
   ]
  },
  {
   "cell_type": "code",
   "execution_count": 30,
   "id": "c75016b2-a743-4377-9631-4c2a9a629879",
   "metadata": {},
   "outputs": [
    {
     "data": {
      "image/png": "[encoded data removed]",
      "text/plain": [
       "<Figure size 640x480 with 1 Axes>"
      ]
     },
     "metadata": {},
     "output_type": "display_data"
    },
    {
     "data": {
      "image/png": "[encoded data removed]",
      "text/plain": [
       "<Figure size 640x480 with 1 Axes>"
      ]
     },
     "metadata": {},
     "output_type": "display_data"
    },
    {
     "data": {
      "image/png": "[encoded data removed]",
      "text/plain": [
       "<Figure size 640x480 with 1 Axes>"
      ]
     },
     "metadata": {},
     "output_type": "display_data"
    },
    {
     "data": {
      "image/png": "[encoded data removed]",
      "text/plain": [
       "<Figure size 640x480 with 1 Axes>"
      ]
     },
     "metadata": {},
     "output_type": "display_data"
    }
   ],
   "source": [
    "for feature in cont_features_orders:\n",
    "    data = orders.copy()\n",
    "    data[feature].hist(bins=20, color='cornflowerblue')\n",
    "    plt.xlabel(feature)\n",
    "    plt.ylabel('Count')\n",
    "    plt.title(feature)\n",
    "    plt.show()"
   ]
  },
  {
   "cell_type": "markdown",
   "id": "e3e30a7b-e76e-4226-9a3d-e5822c21a0b5",
   "metadata": {},
   "source": [
    "#### Payments"
   ]
  },
  {
   "cell_type": "markdown",
   "id": "2d38149d-f83f-4e4d-8fe1-34afaba845b0",
   "metadata": {},
   "source": [
    "We will also add payment_installments into cont_features_payments even though it's not a continuous variable, because we still want to perform outlier analysis on it."
   ]
  },
  {
   "cell_type": "code",
   "execution_count": 31,
   "id": "416ea054-bfa2-497d-8d90-99faac9dbe59",
   "metadata": {},
   "outputs": [
    {
     "data": {
      "text/plain": [
       "['payment_value', 'payment_installments']"
      ]
     },
     "execution_count": 31,
     "metadata": {},
     "output_type": "execute_result"
    }
   ],
   "source": [
    "cont_features_payments = ['payment_value', 'payment_installments']\n",
    "cont_features_payments"
   ]
  },
  {
   "cell_type": "code",
   "execution_count": 32,
   "id": "0c3c8d55-f6c1-40b1-88ae-5925f605e75e",
   "metadata": {},
   "outputs": [
    {
     "data": {
      "image/png": "[encoded data removed]",
      "text/plain": [
       "<Figure size 640x480 with 1 Axes>"
      ]
     },
     "metadata": {},
     "output_type": "display_data"
    },
    {
     "data": {
      "image/png": "[encoded data removed]",
      "text/plain": [
       "<Figure size 640x480 with 1 Axes>"
      ]
     },
     "metadata": {},
     "output_type": "display_data"
    }
   ],
   "source": [
    "for feature in cont_features_payments:\n",
    "    data = payments.copy()\n",
    "    data[feature].hist(bins=20, color='cornflowerblue')\n",
    "    plt.xlabel(feature)\n",
    "    plt.ylabel('Count')\n",
    "    plt.title(feature)\n",
    "    plt.show()"
   ]
  },
  {
   "cell_type": "markdown",
   "id": "9f23c935-3341-4980-b487-15ee253d0ed5",
   "metadata": {},
   "source": [
    "<div class = 'alert alert-block alert-success'>\n",
    "    Here we notice that we have skewed data and so, we will transform it into log normal distribution, which will be helpful for linear model prediction.\n",
    "</div>"
   ]
  },
  {
   "cell_type": "markdown",
   "id": "848fd85b-a282-4bc5-9e49-384bc147f5c0",
   "metadata": {},
   "source": [
    "### OUTLIERS"
   ]
  },
  {
   "cell_type": "markdown",
   "id": "39845e86-c15b-4cd0-b84f-791e9948b74e",
   "metadata": {},
   "source": [
    "#### Before Outlier Analysis"
   ]
  },
  {
   "cell_type": "code",
   "execution_count": 33,
   "id": "2ef50757-5330-4d64-b1a0-edbaf30204e1",
   "metadata": {},
   "outputs": [
    {
     "data": {
      "image/png": "[encoded data removed]",
      "text/plain": [
       "<Figure size 1000x600 with 1 Axes>"
      ]
     },
     "metadata": {},
     "output_type": "display_data"
    }
   ],
   "source": [
    "orders[cont_features_orders].boxplot(figsize=(10,6))\n",
    "plt.show()"
   ]
  },
  {
   "cell_type": "code",
   "execution_count": 34,
   "id": "654ba6a0-05ba-4016-ac41-38ff6a1dc8eb",
   "metadata": {},
   "outputs": [
    {
     "data": {
      "image/png": "[encoded data removed]",
      "text/plain": [
       "<Figure size 1000x600 with 1 Axes>"
      ]
     },
     "metadata": {},
     "output_type": "display_data"
    }
   ],
   "source": [
    "payments[cont_features_payments].boxplot(figsize=(10,6))\n",
    "plt.show()"
   ]
  },
  {
   "cell_type": "code",
   "execution_count": 35,
   "id": "6dd5cb6a-693f-47e6-9a09-cd8a98e757fe",
   "metadata": {},
   "outputs": [],
   "source": [
    "def treat_outliers_iqr(df, cols):\n",
    "    for col in cols:\n",
    "        if col in df.columns:\n",
    "            Q1 = df[col].quantile(0.25)\n",
    "            Q3 = df[col].quantile(0.75)\n",
    "            IQR = Q3 - Q1\n",
    "            lower = Q1 - 1.5 * IQR\n",
    "            upper = Q3 + 1.5 * IQR\n",
    "            df[col] = df[col].clip(lower, upper)\n",
    "    return df\n",
    "\n",
    "orders = treat_outliers_iqr(orders, cont_features_orders)\n",
    "payments = treat_outliers_iqr(payments, cont_features_payments)"
   ]
  },
  {
   "cell_type": "markdown",
   "id": "73832ec5-9613-410f-b9a2-51381642f7c6",
   "metadata": {},
   "source": [
    "Let's check if the outliers have been treated using box plots"
   ]
  },
  {
   "cell_type": "markdown",
   "id": "c1d9ad9e-13b4-4178-8c84-ee87d54f70e1",
   "metadata": {},
   "source": [
    "#### After Outlier Analysis"
   ]
  },
  {
   "cell_type": "code",
   "execution_count": 36,
   "id": "6c64044a-70f3-4aac-bcad-c3997567c272",
   "metadata": {},
   "outputs": [
    {
     "data": {
      "image/png": "[encoded data removed]",
      "text/plain": [
       "<Figure size 1000x600 with 1 Axes>"
      ]
     },
     "metadata": {},
     "output_type": "display_data"
    }
   ],
   "source": [
    "orders[cont_features_orders].boxplot(figsize=(10,6))\n",
    "plt.show()"
   ]
  },
  {
   "cell_type": "code",
   "execution_count": 37,
   "id": "009550a1-7e15-4f1d-901c-dae3305173ed",
   "metadata": {},
   "outputs": [
    {
     "data": {
      "text/plain": [
       "approval_time         0\n",
       "delivery_time         0\n",
       "shipping_time        23\n",
       "delivery_delay    88649\n",
       "dtype: int64"
      ]
     },
     "execution_count": 37,
     "metadata": {},
     "output_type": "execute_result"
    }
   ],
   "source": [
    "(orders[cont_features_orders]<0).sum()"
   ]
  },
  {
   "cell_type": "code",
   "execution_count": 38,
   "id": "33a7071c-61b4-4863-acf6-d3b9c0f6b6f7",
   "metadata": {},
   "outputs": [
    {
     "data": {
      "text/plain": [
       "delivered_flag\n",
       "1    0.970183\n",
       "0    0.029817\n",
       "Name: proportion, dtype: float64"
      ]
     },
     "execution_count": 38,
     "metadata": {},
     "output_type": "execute_result"
    }
   ],
   "source": [
    "orders['delivered_flag'].value_counts(normalize=True)"
   ]
  },
  {
   "cell_type": "code",
   "execution_count": 39,
   "id": "235a2ee5-c57c-4536-b235-fdaecb4279cf",
   "metadata": {},
   "outputs": [
    {
     "data": {
      "image/png": "[encoded data removed]",
      "text/plain": [
       "<Figure size 1000x600 with 1 Axes>"
      ]
     },
     "metadata": {},
     "output_type": "display_data"
    }
   ],
   "source": [
    "payments[cont_features_payments].boxplot(figsize=(10,6))\n",
    "plt.show()"
   ]
  },
  {
   "cell_type": "markdown",
   "id": "5cf4123c-438b-482a-af8f-e993dbca46d6",
   "metadata": {},
   "source": [
    "### SKEWNESS and LOG NORMAL DISTRIBUTION"
   ]
  },
  {
   "cell_type": "markdown",
   "id": "d6582ab9-5650-479e-9560-9a439efb8f57",
   "metadata": {},
   "source": [
    "#### Orders"
   ]
  },
  {
   "cell_type": "code",
   "execution_count": 40,
   "id": "673b3325-a072-499b-82b9-dddbaba73b73",
   "metadata": {},
   "outputs": [
    {
     "data": {
      "text/plain": [
       "approval_time     1.311233\n",
       "delivery_time     0.880331\n",
       "shipping_time     1.001263\n",
       "delivery_delay    0.101496\n",
       "delivered_flag   -5.529009\n",
       "dtype: float64"
      ]
     },
     "execution_count": 40,
     "metadata": {},
     "output_type": "execute_result"
    }
   ],
   "source": [
    "numeric_cols_orders = orders.select_dtypes(include='number').columns\n",
    "orders[numeric_cols_orders].skew()"
   ]
  },
  {
   "cell_type": "markdown",
   "id": "d803130c-98b0-44d0-a6c8-249ce9a66610",
   "metadata": {},
   "source": [
    "#### Payments"
   ]
  },
  {
   "cell_type": "code",
   "execution_count": 41,
   "id": "57f40daf-0c1b-4e97-a093-320c8f230ef8",
   "metadata": {},
   "outputs": [
    {
     "data": {
      "text/plain": [
       "payment_sequential      16.180065\n",
       "payment_installments     1.277690\n",
       "payment_value            1.048190\n",
       "dtype: float64"
      ]
     },
     "execution_count": 41,
     "metadata": {},
     "output_type": "execute_result"
    }
   ],
   "source": [
    "numeric_cols_payments = payments.select_dtypes(include='number').columns\n",
    "payments[numeric_cols_payments].skew()"
   ]
  },
  {
   "cell_type": "markdown",
   "id": "29ce3b39-942c-4f65-888b-6ba184edccae",
   "metadata": {},
   "source": [
    "#### Reviews"
   ]
  },
  {
   "cell_type": "code",
   "execution_count": 42,
   "id": "8458480a-7dd5-4363-b056-73a133c9586b",
   "metadata": {},
   "outputs": [
    {
     "data": {
      "text/plain": [
       "review_score   -1.364386\n",
       "dtype: float64"
      ]
     },
     "execution_count": 42,
     "metadata": {},
     "output_type": "execute_result"
    }
   ],
   "source": [
    "numeric_cols_reviews = reviews.select_dtypes(include='number').columns\n",
    "reviews[numeric_cols_reviews].skew()"
   ]
  },
  {
   "cell_type": "code",
   "execution_count": 43,
   "id": "b310b137-eb5c-4693-9a54-2ad958302dab",
   "metadata": {},
   "outputs": [
    {
     "name": "stdout",
     "output_type": "stream",
     "text": [
      "Applied log transform on: approval_time (skew=1.31)\n",
      "Skipped (low skew): delivery_time (skew=0.88)\n",
      "Applied log transform on: shipping_time (skew=1.00)\n",
      "Skipped (low skew): delivery_delay (skew=0.10)\n",
      "Skipped (excluded): delivered_flag\n",
      "Skipped (excluded): payment_sequential\n",
      "Skipped (excluded): payment_installments\n",
      "Applied log transform on: payment_value (skew=1.05)\n"
     ]
    }
   ],
   "source": [
    "from utils.cleaning import log_transform_skewed\n",
    "\n",
    "orders_transformed = log_transform_skewed(orders)\n",
    "payments_transformed = log_transform_skewed(payments)"
   ]
  },
  {
   "cell_type": "code",
   "execution_count": 44,
   "id": "0b95b04a-7405-4cfe-88a8-316b82a0a0b8",
   "metadata": {},
   "outputs": [
    {
     "name": "stdout",
     "output_type": "stream",
     "text": [
      "approval_time    0.875724\n",
      "shipping_time   -0.502980\n",
      "dtype: float64\n"
     ]
    }
   ],
   "source": [
    "print(orders_transformed[['approval_time','shipping_time']].skew())"
   ]
  },
  {
   "cell_type": "code",
   "execution_count": 45,
   "id": "8f943c60-1380-44cf-b219-10b51c85f633",
   "metadata": {},
   "outputs": [
    {
     "name": "stdout",
     "output_type": "stream",
     "text": [
      "-0.7722661103913849\n"
     ]
    }
   ],
   "source": [
    "print(payments_transformed['payment_value'].skew())"
   ]
  },
  {
   "cell_type": "code",
   "execution_count": 46,
   "id": "8bdc4248-5473-465a-bd92-61e10ddc4175",
   "metadata": {},
   "outputs": [],
   "source": [
    "orders = orders_transformed\n",
    "payments = payments_transformed"
   ]
  },
  {
   "cell_type": "markdown",
   "id": "13f5963b-0bf6-4c84-8698-a1f8c2bb9e2f",
   "metadata": {},
   "source": [
    "### FEATURE SCALING"
   ]
  },
  {
   "cell_type": "markdown",
   "id": "630dd9f4-4a0b-47ae-820e-3173ce5b38e0",
   "metadata": {},
   "source": [
    "#### Orders"
   ]
  },
  {
   "cell_type": "code",
   "execution_count": 47,
   "id": "4e02c8a9-8b25-4ca4-ad49-3fd43f892069",
   "metadata": {},
   "outputs": [],
   "source": [
    "from sklearn.preprocessing import StandardScaler\n",
    "orders_numeric_cols = ['approval_time', 'delivery_time', 'shipping_time', 'delivery_delay']\n",
    "\n",
    "scaler = StandardScaler()\n",
    "orders[orders_numeric_cols] = scaler.fit_transform(orders[orders_numeric_cols])"
   ]
  },
  {
   "cell_type": "markdown",
   "id": "44c8d20d-725d-4d00-983b-74a3dab744d8",
   "metadata": {},
   "source": [
    "#### Payments"
   ]
  },
  {
   "cell_type": "code",
   "execution_count": 48,
   "id": "d67a118f-93f6-4ce0-a8a7-fc74778b0652",
   "metadata": {},
   "outputs": [],
   "source": [
    "payments_numeric_cols = ['payment_value']\n",
    "\n",
    "scaler_payments = StandardScaler()\n",
    "payments[payments_numeric_cols] = scaler_payments.fit_transform(payments[payments_numeric_cols])"
   ]
  },
  {
   "cell_type": "code",
   "execution_count": 49,
   "id": "9f887d4d-e4e3-4d28-9268-8eb6621fa2c9",
   "metadata": {},
   "outputs": [],
   "source": [
    "orders.to_csv(\"../data/processed/orders_cleaned.csv\", index=False)\n",
    "reviews.to_csv(\"../data/processed/reviews_cleaned.csv\", index=False)\n",
    "payments.to_csv(\"../data/processed/payments_cleaned.csv\", index=False)"
   ]
  },
  {
   "cell_type": "code",
   "execution_count": null,
   "id": "84f3d2b1-4850-4b14-a1f2-e59cc2c64c20",
   "metadata": {},
   "outputs": [],
   "source": []
  }
 ],
 "metadata": {
  "kernelspec": {
   "display_name": "Python 3 (ipykernel)",
   "language": "python",
   "name": "python3"
  },
  "language_info": {
   "codemirror_mode": {
    "name": "ipython",
    "version": 3
   },
   "file_extension": ".py",
   "mimetype": "text/x-python",
   "name": "python",
   "nbconvert_exporter": "python",
   "pygments_lexer": "ipython3",
   "version": "3.13.6"
  }
 },
 "nbformat": 4,
 "nbformat_minor": 5
}
